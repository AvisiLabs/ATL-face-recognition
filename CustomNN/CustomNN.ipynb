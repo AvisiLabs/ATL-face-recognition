{
 "cells": [
  {
   "cell_type": "code",
   "execution_count": 1,
   "id": "600c4f2d-c12b-4608-ae72-d6f6db5e8438",
   "metadata": {
    "tags": []
   },
   "outputs": [],
   "source": [
    "import matplotlib.pyplot as plt\n",
    "import numpy as np\n",
<<<<<<< HEAD
    "import pandas as pd\n",
    "import tensorflow as tf\n",
    "import os\n",
=======
    "import os\n",
    "import pandas as pd\n",
    "import tensorflow as tf\n",
>>>>>>> 97c30c0 (Initial commit with TODO for the blog link)
    "from sklearn.model_selection import train_test_split\n",
    "from tensorflow.keras.layers import Conv2D, MaxPooling2D\n",
    "from tensorflow.keras.layers import Dense, Dropout, Flatten\n",
    "from tensorflow.keras.models import Sequential\n",
    "from tensorflow.keras.preprocessing import image\n",
<<<<<<< HEAD
    "%matplotlib inline\n",
    "# Define some variables for later\n",
    "PATH = os.getcwd()\n",
    "LOG_DIR = PATH+ '/logOld'"
=======
    "% matplotlib inline\n",
    "# Define some variables for later\n",
    "PATH = os.getcwd()\n",
    "LOG_DIR = PATH + '/logOld'"
>>>>>>> 97c30c0 (Initial commit with TODO for the blog link)
   ]
  },
  {
   "cell_type": "markdown",
   "id": "a54ad7d8-ea80-49c9-88ff-091d2079eb01",
   "metadata": {},
   "source": [
    "# Import images and labels from CSV"
   ]
  },
  {
   "cell_type": "code",
   "execution_count": 5,
   "id": "7c8693ef",
   "metadata": {},
   "outputs": [
    {
     "name": "stdout",
     "output_type": "stream",
     "text": [
      "   ID        People  Albert  Eline  Erik  Kevin  Marcel\n",
      "0   1  Albert, Erik       1      0     1      0       0\n",
      "1   2  Albert, Erik       1      0     1      0       0\n",
      "2   3  Albert, Erik       1      0     1      0       0\n",
      "3   4  Albert, Erik       1      0     1      0       0\n",
      "4   5  Albert, Erik       1      0     1      0       0\n"
     ]
    },
    {
     "data": {
      "text/plain": [
       "(294, 5)"
      ]
     },
     "execution_count": 5,
     "metadata": {},
     "output_type": "execute_result"
    }
   ],
   "source": [
<<<<<<< HEAD
    "labels = pd.read_csv('AVL-Images - Sheet2.csv')    # reading the csv file\n",
    "print(labels.head())      # printing first five rows of the file\n",
=======
    "labels = pd.read_csv('AVL-Images.csv')  # reading the csv file\n",
    "print(labels.head())  # printing first five rows of the file\n",
>>>>>>> 97c30c0 (Initial commit with TODO for the blog link)
    "\n",
    "train_image = []\n",
    "files = glob.glob('../images/*.jpg')\n",
    "for file in files:\n",
<<<<<<< HEAD
    "    img = image.load_img(file,target_size=(256,256,3))\n",
    "    img = image.img_to_array(img)\n",
    "    img = img/255\n",
    "    img = img[..., ::-1]\n",
    "    train_image.append(img)\n",
    "X = np.array(train_image)\n",
    "y = np.array(labels.loc[:,['Albert', 'Eline', 'Erik', 'Kevin', 'Marcel']])\n",
=======
    "    img = image.load_img(file, target_size=(256, 256, 3))\n",
    "    img = image.img_to_array(img)\n",
    "    img = img / 255\n",
    "    img = img[..., ::-1]\n",
    "    train_image.append(img)\n",
    "X = np.array(train_image)\n",
    "y = np.array(labels.loc[:, ['Albert', 'Eline', 'Erik', 'Kevin', 'Marcel']])\n",
>>>>>>> 97c30c0 (Initial commit with TODO for the blog link)
    "y.shape"
   ]
  },
  {
   "cell_type": "code",
   "execution_count": 6,
   "id": "3d871ba0",
   "metadata": {},
   "outputs": [],
   "source": [
    "train_X, test_X, train_y, test_y = train_test_split(X, y, random_state=30, test_size=0.1)\n",
    "\n",
    "#Exact size of train_X to fill with data to extract in the following for loop.\n",
<<<<<<< HEAD
    "fillable_X = np.zeros((264,256,256,3), dtype=np.float32)"
=======
    "fillable_X = np.zeros((264, 256, 256, 3), dtype=np.float32)"
>>>>>>> 97c30c0 (Initial commit with TODO for the blog link)
   ]
  },
  {
   "cell_type": "markdown",
   "id": "76a0971f-bcc3-4fb3-965f-2ff35ef3b247",
   "metadata": {},
   "source": [
    "# Generate data and apply modification"
   ]
  },
  {
   "cell_type": "code",
   "execution_count": 7,
   "id": "63e4086f",
   "metadata": {},
   "outputs": [
    {
     "name": "stderr",
     "output_type": "stream",
     "text": [
      "/usr/local/lib/python3.9/site-packages/keras_preprocessing/image/image_data_generator.py:938: UserWarning: Expected input to be images (as Numpy array) following the data format convention \"channels_last\" (channels on axis 3), i.e. expected either 1, 3 or 4 channels on axis 3. However, it was passed an array with shape (264, 256, 256, 6) (6 channels).\n",
      "  warnings.warn(\n"
     ]
    }
   ],
   "source": [
    "datagen_X = np.concatenate((train_X, fillable_X), axis=3)\n",
    "datagen = image.ImageDataGenerator(featurewise_center=True, rotation_range=40,\n",
    "                                   width_shift_range=0.2,\n",
    "                                   height_shift_range=0.2,\n",
    "                                   shear_range=0.2,\n",
    "                                   horizontal_flip=True,\n",
    "                                   fill_mode='nearest')\n",
    "datagen.fit(datagen_X)\n",
    "X_batches = datagen_X\n",
    "y_batches = train_y"
   ]
  },
  {
   "cell_type": "code",
   "execution_count": 26,
   "id": "0fb503cc",
   "metadata": {},
   "outputs": [
    {
     "name": "stdout",
     "output_type": "stream",
     "text": [
      "Epoch 0\n",
      "Epoch 1\n"
     ]
    },
    {
     "data": {
      "text/plain": [
       "(1056, 256, 256, 3)"
      ]
     },
     "execution_count": 26,
     "metadata": {},
     "output_type": "execute_result"
    }
   ],
   "source": [
    "epochs = 6\n",
    "\n",
    "for e in range(epochs):\n",
    "    print('Epoch', e)\n",
    "    batches = 0\n",
    "    batch_size = 6\n",
    "    for X_batch, y_batch in datagen.flow(datagen_X, train_y, batch_size=batch_size):\n",
<<<<<<< HEAD
    "        X_batches = np.concatenate((X_batches, X_batch), axis = 0)\n",
    "        y_batches = np.concatenate((y_batches, y_batch), axis = 0)\n",
=======
    "        X_batches = np.concatenate((X_batches, X_batch), axis=0)\n",
    "        y_batches = np.concatenate((y_batches, y_batch), axis=0)\n",
>>>>>>> 97c30c0 (Initial commit with TODO for the blog link)
    "        batches += 1\n",
    "        if batches >= len(datagen_X) / batch_size:\n",
    "            break\n",
    "\n",
    "#Imagegenerator adds another dimension that we don't need so we remove it.\n",
<<<<<<< HEAD
    "train_X_new = X_batches[:,:,:,:3]\n",
=======
    "train_X_new = X_batches[:, :, :, :3]\n",
>>>>>>> 97c30c0 (Initial commit with TODO for the blog link)
    "train_X_new.shape"
   ]
  },
  {
   "cell_type": "code",
   "execution_count": 45,
   "id": "a0983c22-36bd-4ffb-9bdb-19718c127636",
   "metadata": {},
   "outputs": [
    {
     "name": "stderr",
     "output_type": "stream",
     "text": [
      "Clipping input data to the valid range for imshow with RGB data ([0..1] for floats or [0..255] for integers).\n"
     ]
    },
    {
     "data": {
      "text/plain": [
       "<matplotlib.image.AxesImage at 0x17b32ae80>"
      ]
     },
     "execution_count": 45,
     "metadata": {},
     "output_type": "execute_result"
    },
    {
     "data": {
      "image/png": "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\n",
      "text/plain": [
       "<Figure size 432x288 with 1 Axes>"
      ]
     },
     "metadata": {
      "needs_background": "light"
     },
     "output_type": "display_data"
    }
   ],
   "source": [
<<<<<<< HEAD
    "from PIL import Image\n",
    "\n",
    "modification = image.save_img(\"modification1.jpg\", train_X_new[458][...,::-1])\n",
    "plt.imshow(train_X_new[458][...,::-1])"
=======
    "\n",
    "modification = image.save_img(\"modification1.jpg\", train_X_new[458][..., ::-1])\n",
    "plt.imshow(train_X_new[458][..., ::-1])"
>>>>>>> 97c30c0 (Initial commit with TODO for the blog link)
   ]
  },
  {
   "cell_type": "code",
   "execution_count": 46,
   "id": "04e08816",
   "metadata": {},
   "outputs": [
    {
     "name": "stderr",
     "output_type": "stream",
     "text": [
      "2021-10-26 11:56:18.303736: I tensorflow/core/platform/cpu_feature_guard.cc:142] This TensorFlow binary is optimized with oneAPI Deep Neural Network Library (oneDNN) to use the following CPU instructions in performance-critical operations:  AVX2 FMA\n",
      "To enable them in other operations, rebuild TensorFlow with the appropriate compiler flags.\n"
     ]
    }
   ],
   "source": [
    "model = Sequential()\n",
<<<<<<< HEAD
    "model.add(Conv2D(filters=16, kernel_size=(5), activation=\"relu\", input_shape=(256,256,3)))\n",
=======
    "model.add(Conv2D(filters=16, kernel_size=(5), activation=\"relu\", input_shape=(256, 256, 3)))\n",
>>>>>>> 97c30c0 (Initial commit with TODO for the blog link)
    "model.add(MaxPooling2D(pool_size=(2, 2)))\n",
    "model.add(Dropout(0.25))\n",
    "model.add(Conv2D(filters=32, kernel_size=(5), activation='relu'))\n",
    "model.add(MaxPooling2D(pool_size=(2, 2)))\n",
    "model.add(Dropout(0.25))\n",
    "model.add(Conv2D(filters=64, kernel_size=(5), activation=\"relu\"))\n",
    "model.add(MaxPooling2D(pool_size=(2, 2)))\n",
    "model.add(Dropout(0.25))\n",
    "model.add(Conv2D(filters=64, kernel_size=(5), activation='relu'))\n",
    "model.add(MaxPooling2D(pool_size=(2, 2)))\n",
    "model.add(Dropout(0.25))\n",
    "model.add(Flatten())\n",
    "model.add(Dense(128, activation='relu'))\n",
    "model.add(Dropout(0.5))\n",
    "model.add(Dense(64, activation='relu', name='intermediate'))\n",
    "model.add(Dropout(0.5))\n",
    "model.add(Dense(5, activation='softmax'))\n",
    "model.compile(optimizer='adam', loss='binary_crossentropy', metrics=['accuracy'])"
   ]
  },
  {
   "cell_type": "code",
   "execution_count": 47,
   "id": "535b86a8-6c3b-4910-8903-86a9e74ba735",
   "metadata": {},
   "outputs": [
    {
     "name": "stdout",
     "output_type": "stream",
     "text": [
      "Model: \"sequential\"\n",
      "_________________________________________________________________\n",
      "Layer (type)                 Output Shape              Param #   \n",
      "=================================================================\n",
      "conv2d (Conv2D)              (None, 252, 252, 16)      1216      \n",
      "_________________________________________________________________\n",
      "max_pooling2d (MaxPooling2D) (None, 126, 126, 16)      0         \n",
      "_________________________________________________________________\n",
      "dropout (Dropout)            (None, 126, 126, 16)      0         \n",
      "_________________________________________________________________\n",
      "conv2d_1 (Conv2D)            (None, 122, 122, 32)      12832     \n",
      "_________________________________________________________________\n",
      "max_pooling2d_1 (MaxPooling2 (None, 61, 61, 32)        0         \n",
      "_________________________________________________________________\n",
      "dropout_1 (Dropout)          (None, 61, 61, 32)        0         \n",
      "_________________________________________________________________\n",
      "conv2d_2 (Conv2D)            (None, 57, 57, 64)        51264     \n",
      "_________________________________________________________________\n",
      "max_pooling2d_2 (MaxPooling2 (None, 28, 28, 64)        0         \n",
      "_________________________________________________________________\n",
      "dropout_2 (Dropout)          (None, 28, 28, 64)        0         \n",
      "_________________________________________________________________\n",
      "conv2d_3 (Conv2D)            (None, 24, 24, 64)        102464    \n",
      "_________________________________________________________________\n",
      "max_pooling2d_3 (MaxPooling2 (None, 12, 12, 64)        0         \n",
      "_________________________________________________________________\n",
      "dropout_3 (Dropout)          (None, 12, 12, 64)        0         \n",
      "_________________________________________________________________\n",
      "flatten (Flatten)            (None, 9216)              0         \n",
      "_________________________________________________________________\n",
      "dense (Dense)                (None, 128)               1179776   \n",
      "_________________________________________________________________\n",
      "dropout_4 (Dropout)          (None, 128)               0         \n",
      "_________________________________________________________________\n",
      "intermediate (Dense)         (None, 64)                8256      \n",
      "_________________________________________________________________\n",
      "dropout_5 (Dropout)          (None, 64)                0         \n",
      "_________________________________________________________________\n",
      "dense_1 (Dense)              (None, 5)                 325       \n",
      "=================================================================\n",
      "Total params: 1,356,133\n",
      "Trainable params: 1,356,133\n",
      "Non-trainable params: 0\n",
      "_________________________________________________________________\n"
     ]
    }
   ],
   "source": [
    "model.summary()"
   ]
  },
  {
   "cell_type": "code",
   "execution_count": null,
   "id": "79ad0dc3",
   "metadata": {},
   "outputs": [],
   "source": [
    "earlystopping = tf.keras.callbacks.EarlyStopping(\n",
    "    monitor='val_loss', min_delta=0, patience=2, verbose=0,\n",
    "    mode='auto', baseline=None, restore_best_weights=False\n",
    ")\n"
   ]
  },
  {
   "cell_type": "code",
   "execution_count": null,
   "id": "f98c51e0-ed16-40ac-b2cd-e974d06829b3",
   "metadata": {
    "pycharm": {
     "name": "#%%\n"
    }
   },
   "outputs": [],
   "source": [
    "tensorboard_callback = tf.keras.callbacks.TensorBoard(log_dir=LOG_DIR, histogram_freq=1, write_images=True)\n",
<<<<<<< HEAD
    "hist = model.fit(train_X, train_y, shuffle=True, epochs=100, validation_data=(test_X, test_y), callbacks=[tensorboard_callback, earlystopping], class_weight={0:0.5653846154,1:0.5495327103,2:0.4983050847,3:0.5345454545,4:0.6461538462})\n",
=======
    "hist = model.fit(train_X, train_y, shuffle=True, epochs=100, validation_data=(test_X, test_y), callbacks=[tensorboard_callback, earlystopping],\n",
    "                 class_weight={0: 0.5653846154, 1: 0.5495327103, 2: 0.4983050847, 3: 0.5345454545, 4: 0.6461538462})\n",
>>>>>>> 97c30c0 (Initial commit with TODO for the blog link)
    "plt.plot(hist.history['accuracy'])\n",
    "plt.plot(hist.history['val_accuracy'])\n",
    "plt.show()"
   ]
  },
  {
   "cell_type": "code",
   "execution_count": null,
   "id": "113c352c",
   "metadata": {},
   "outputs": [],
   "source": [
    "model.save('modelold')"
   ]
  },
  {
   "cell_type": "markdown",
   "id": "1c374bc1-a9bc-4b67-9946-493fa4e2f306",
   "metadata": {},
   "source": [
    "# Predict classes for an image"
   ]
  },
  {
   "cell_type": "code",
   "execution_count": null,
   "id": "3bcce1ad",
   "metadata": {},
   "outputs": [],
   "source": [
<<<<<<< HEAD
    "img = image.load_img('../erik.jpg',target_size=(256,256,3))\n",
    "img = image.img_to_array(img)\n",
    "img = img/255\n",
    "classes = np.array(train.columns[2:])\n",
    "proba = model.predict(img.reshape(1,256,256,3))\n",
    "top_3 = np.argsort(proba[0])[:-4:-1]\n",
    "for i in range(3):\n",
    "    print(\"{}\".format(classes[top_3[i]])+\" ({:.3})\".format(proba[0][top_3[i]]))\n",
=======
    "img = image.load_img('../erik.jpg', target_size=(256, 256, 3))\n",
    "img = image.img_to_array(img)\n",
    "img = img / 255\n",
    "classes = np.array(train.columns[2:])\n",
    "proba = model.predict(img.reshape(1, 256, 256, 3))\n",
    "top_3 = np.argsort(proba[0])[:-4:-1]\n",
    "for i in range(3):\n",
    "    print(\"{}\".format(classes[top_3[i]]) + \" ({:.3})\".format(proba[0][top_3[i]]))\n",
>>>>>>> 97c30c0 (Initial commit with TODO for the blog link)
    "plt.imshow(img)"
   ]
  },
  {
   "cell_type": "markdown",
   "id": "85100d64",
   "metadata": {},
   "source": [
    "# Featurevector file"
   ]
  },
  {
   "cell_type": "code",
   "execution_count": null,
   "id": "9823e76f",
   "metadata": {
    "pycharm": {
     "name": "#%%\n"
    }
   },
   "outputs": [],
   "source": [
    "def img_features(image_file_name):\n",
    "    image_features = np.zeros((1, 5))\n",
<<<<<<< HEAD
    "    im = image.load_img(image_file_name,target_size=(256,256,3))\n",
    "    im = image.img_to_array(im)\n",
    "    im = im/255\n",
    "    #last layer of model\n",
    "    image_features[0,:] = model.predict(im.reshape(1,256,256,3))[0]\n",
=======
    "    im = image.load_img(image_file_name, target_size=(256, 256, 3))\n",
    "    im = image.img_to_array(im)\n",
    "    im = im / 255\n",
    "    #last layer of model\n",
    "    image_features[0, :] = model.predict(im.reshape(1, 256, 256, 3))[0]\n",
>>>>>>> 97c30c0 (Initial commit with TODO for the blog link)
    "    return image_features"
   ]
  },
  {
   "cell_type": "code",
   "execution_count": null,
   "id": "816a0f13",
   "metadata": {},
   "outputs": [],
   "source": [
<<<<<<< HEAD
    "PATH=os.getcwd()\n",
    "data_path = '../images'\n",
    "data_dir_list = os.listdir(data_path)\n",
    "\n",
    "image_features_list=[]\n",
=======
    "PATH = os.getcwd()\n",
    "data_path = '../images'\n",
    "data_dir_list = os.listdir(data_path)\n",
    "\n",
    "image_features_list = []\n",
>>>>>>> 97c30c0 (Initial commit with TODO for the blog link)
    "\n",
    "for img in sorted(data_dir_list):\n",
    "    if (img == '.DS_Store'):\n",
    "        continue\n",
<<<<<<< HEAD
    "    image_features=img_features(data_path + '/' + img)\n",
    "    image_features_list.append(image_features)\n",
    "\n",
    "\n",
    "image_features_arr=np.asarray(image_features_list)\n",
    "image_features_arr = np.rollaxis(image_features_arr,1,0)\n",
    "image_features_arr = image_features_arr[0,:,:]\n",
    "\n",
    "np.savetxt('feature_vectors_400_samples.txt',image_features_arr)"
=======
    "    image_features = img_features(data_path + '/' + img)\n",
    "    image_features_list.append(image_features)\n",
    "\n",
    "image_features_arr = np.asarray(image_features_list)\n",
    "image_features_arr = np.rollaxis(image_features_arr, 1, 0)\n",
    "image_features_arr = image_features_arr[0, :, :]\n",
    "\n",
    "np.savetxt('feature_vectors_400_samples.txt', image_features_arr)"
>>>>>>> 97c30c0 (Initial commit with TODO for the blog link)
   ]
  },
  {
   "cell_type": "code",
   "execution_count": null,
   "id": "b544b4e4",
   "metadata": {},
   "outputs": [],
   "source": [
    "feature_vectors = np.loadtxt('feature_vectors_400_samples.txt')\n",
    "features = tf.Variable(feature_vectors, name='features')"
   ]
  },
  {
   "cell_type": "markdown",
   "id": "58505517-33b2-4cba-8e8f-f216e94bb9a4",
   "metadata": {},
   "source": [
    "# Setting up the Tensorboard projector"
   ]
  },
  {
   "cell_type": "code",
   "execution_count": null,
   "id": "e7ffc641",
   "metadata": {
    "pycharm": {
     "name": "#%%\n"
    }
   },
   "outputs": [],
   "source": [
    "import os\n",
    "import cv2\n",
    "import shutil\n",
    "from tensorboard.plugins import projector\n",
    "import tensorflow as tf"
   ]
  },
  {
   "cell_type": "code",
   "execution_count": null,
   "id": "de47cebb",
   "metadata": {},
   "outputs": [],
   "source": [
    "def plot_to_projector(\n",
    "        x,\n",
    "        feature_vector,\n",
    "        y,\n",
    "        class_names,\n",
    "        log_dir=\"logold\",\n",
    "        meta_file=\"metadata.tsv\",\n",
    "):\n",
    "    assert x.ndim == 4  # (BATCH, H, W, C)\n",
    "\n",
    "    if os.path.isdir(log_dir):\n",
    "        shutil.rmtree(log_dir)\n",
    "\n",
    "    # Create a new clean fresh folder :)\n",
    "    os.mkdir(log_dir)\n",
    "\n",
    "    SPRITES_FILE = os.path.join(log_dir, \"sprites.png\")\n",
<<<<<<< HEAD
    "    sprite_x = x*255\n",
=======
    "    sprite_x = x * 255\n",
>>>>>>> 97c30c0 (Initial commit with TODO for the blog link)
    "    sprite = create_sprite(sprite_x)\n",
    "    cv2.imwrite(SPRITES_FILE, sprite)\n",
    "\n",
    "    # Generate label names\n",
    "    labels = []\n",
    "    for i in range(int(y.shape[0])):\n",
    "        labels.append([])\n",
    "        for j in range(len(y[i])):\n",
    "            if (y[i][j] != 0):\n",
    "                labels[i].append(class_names[j])\n",
    "\n",
    "    with open(os.path.join(log_dir, meta_file), \"w\") as f:\n",
    "        for label in labels:\n",
    "            f.write(\"{}\\n\".format(label))\n",
    "\n",
    "    if feature_vector.ndim != 2:\n",
    "        print(\n",
    "            \"NOTE: Feature vector is not of form (BATCH, FEATURES)\"\n",
    "            \" reshaping to try and get it to this form!\"\n",
    "        )\n",
    "        feature_vector = tf.reshape(feature_vector, [feature_vector.shape[0], -1])\n",
    "    print(feature_vector.shape)\n",
    "\n",
    "    feature_vector = tf.Variable(feature_vector)\n",
    "    checkpoint = tf.train.Checkpoint(embedding=feature_vector)\n",
    "    checkpoint.save(os.path.join(log_dir, \"embeddings.ckpt\"))\n",
    "\n",
    "    # Set up config\n",
    "    config = projector.ProjectorConfig()\n",
    "    embedding = config.embeddings.add()\n",
    "    embedding.tensor_name = \"embedding/.ATTRIBUTES/VARIABLE_VALUE\"\n",
    "    embedding.metadata_path = meta_file\n",
    "    embedding.sprite.image_path = \"sprites.png\"\n",
    "    embedding.sprite.single_image_dim.extend((x.shape[1], x.shape[2]))\n",
    "    projector.visualize_embeddings(log_dir, config)"
   ]
  },
  {
   "cell_type": "code",
   "execution_count": null,
   "id": "90837fb3-359c-4587-9715-daec3d9de720",
   "metadata": {},
   "outputs": [],
   "source": [
    "def create_sprite(data):\n",
    "    \"\"\"\n",
    "    Tile images into sprite image.\n",
    "    Add any necessary padding\n",
    "    \"\"\"\n",
    "    if len(data.shape) == 3:\n",
    "        data = np.tile(data[..., np.newaxis], (1, 1, 1, 3))\n",
    "\n",
    "    n = int(np.ceil(np.sqrt(data.shape[0])))\n",
    "    padding = ((0, n ** 2 - data.shape[0]), (0, 0), (0, 0), (0, 0))\n",
    "    data = np.pad(data, padding, mode=\"constant\", constant_values=0)\n",
    "\n",
    "    # Tile images into sprite\n",
    "    data = data.reshape((n, n) + data.shape[1:]).transpose((0, 2, 1, 3, 4))\n",
    "\n",
    "    data = data.reshape((n * data.shape[1], n * data.shape[3]) + data.shape[4:])\n",
    "    return data"
   ]
  },
  {
   "cell_type": "code",
   "execution_count": null,
   "id": "c456e5eb-54fe-45db-a745-2a162ad561a8",
   "metadata": {},
   "outputs": [],
   "source": [
<<<<<<< HEAD
    "plot_to_projector(X, feature_vectors, y, ['Albert','Eline','Erik','Kevin','Marcel'])"
=======
    "plot_to_projector(X, feature_vectors, y, ['Albert', 'Eline', 'Erik', 'Kevin', 'Marcel'])"
>>>>>>> 97c30c0 (Initial commit with TODO for the blog link)
   ]
  },
  {
   "cell_type": "code",
   "execution_count": null,
   "id": "6dc6a89c-e6bc-4915-9d12-b4d357657cc8",
   "metadata": {},
   "outputs": [],
   "source": []
  }
 ],
 "metadata": {
  "kernelspec": {
   "display_name": "Python 3 (ipykernel)",
   "language": "python",
   "name": "python3"
  },
  "language_info": {
   "codemirror_mode": {
    "name": "ipython",
    "version": 3
   },
   "file_extension": ".py",
   "mimetype": "text/x-python",
   "name": "python",
   "nbconvert_exporter": "python",
   "pygments_lexer": "ipython3",
   "version": "3.9.5"
  }
 },
 "nbformat": 4,
 "nbformat_minor": 5
}