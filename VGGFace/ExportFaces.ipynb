{
 "cells": [
  {
   "cell_type": "markdown",
   "id": "eefc3129-44c9-4c2a-b19c-43c3923c93ac",
   "metadata": {},
   "source": [
    "# Extract faces to folder"
   ]
  },
  {
   "cell_type": "code",
   "execution_count": null,
   "id": "b19bc138-13c3-4791-ae56-44d87d4bcf55",
   "metadata": {},
   "outputs": [],
   "source": [
    "import glob\n",
    "import os\n",
    "\n",
    "import cv2\n",
    "import numpy as np\n",
    "from PIL import Image\n",
    "\n",
    "model_file = \"res10_300x300_ssd_iter_140000.caffemodel\"\n",
    "config_file = \"deploy.prototxt.txt\"\n",
    "net = cv2.dnn.readNetFromCaffe(config_file, model_file)\n",
    "\n",
    "images = glob.glob('../images/*.jpg')\n",
    "count = 0\n",
    "for image in images:\n",
    "    img = cv2.imread(os.path.join('images', image))\n",
    "    # img = cv2.resize(img, None, fx=2, fy=2)\n",
    "    height, width = img.shape[:2]\n",
    "    gray = cv2.cvtColor(img, cv2.COLOR_BGR2GRAY)\n",
    "    img_rgb = cv2.cvtColor(img, cv2.COLOR_BGR2RGB)\n",
    "    # detect faces in the image\n",
    "    blob = cv2.dnn.blobFromImage(cv2.resize(img, (300, 300)),\n",
    "                                 1.0, (300, 300), (104.0, 117.0, 123.0))\n",
    "    net.setInput(blob)\n",
    "    faces = net.forward()\n",
    "    #OPENCV DNN\n",
    "    for i in range(faces.shape[2]):\n",
    "        confidence = faces[0, 0, i, 2]\n",
    "        if confidence > 0.5:\n",
    "            box = faces[0, 0, i, 3:7] * np.array([width, height, width, height])\n",
    "            face_img = Image.fromarray(box)\n",
    "            (x, y, x1, y1) = box.astype(\"int\")\n",
    "            cv2.rectangle(img, (x, y), (x1, y1), (0, 0, 255), 2)\n",
    "            cv2.imwrite(os.path.join('faces', str(count) + '.jpg'), img[y:y1, x:x1])\n",
    "            count += 1"
   ]
  },
  {
   "cell_type": "code",
   "execution_count": null,
   "id": "d5c744e9-625f-4d0a-b000-b0be8890abc0",
   "metadata": {},
   "outputs": [],
   "source": []
  }
 ],
 "metadata": {
  "kernelspec": {
   "display_name": "Python 3 (ipykernel)",
   "language": "python",
   "name": "python3"
  },
  "language_info": {
   "codemirror_mode": {
    "name": "ipython",
    "version": 3
   },
   "file_extension": ".py",
   "mimetype": "text/x-python",
   "name": "python",
   "nbconvert_exporter": "python",
   "pygments_lexer": "ipython3",
   "version": "3.9.5"
  }
 },
 "nbformat": 4,
 "nbformat_minor": 5
}